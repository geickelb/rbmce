{
 "cells": [
  {
   "cell_type": "code",
   "execution_count": 1,
   "metadata": {},
   "outputs": [],
   "source": [
    "import pandas as pd\n",
    "import os\n",
    "import numpy as np\n",
    "\n",
    "import pathlib\n",
    "import re\n",
    "import sys, warnings\n",
    "#import xlrd\n",
    "from datetime import date\n",
    "\n",
    "import rbmce\n",
    "# from .rbmce import *\n",
    "import time  \n",
    "\n",
    "\n",
    "###running rbmce spits out some unnecessary warnings when used in jupyter, silencing them here\n",
    "import warnings\n",
    "warnings.filterwarnings('ignore')"
   ]
  },
  {
   "cell_type": "markdown",
   "metadata": {},
   "source": [
    "### rbmce column requirements reminder:\n",
    "* parsed_note or note_section:\n",
    "    * microbiology report txt in either a raw or (perferable) chopped up into components (eg gram stain/growth report/ab susceptability)\n",
    "* culture_id:\n",
    "    * a primary key tied to a given sample/specimen + microbiological exam order.\n",
    "    * Often a microbiology order can be tied to numerous components (eg gram stain/growth report/ ab susceptability). additionally these can be appended to same report or added as a new report tied to same sample + order. all of these tied to a sample+order should share same culture_id\n",
    "* visit_id:\n",
    "    * primary key for patient's visit/encounter\n",
    "    * can be 1-many:1 to culture_id or 1:1 (in which case can specify as culture_id)\n",
    "in some datasets a patient may have multiple cultures performed in a visit/encounter."
   ]
  },
  {
   "cell_type": "markdown",
   "metadata": {},
   "source": [
    "# importing in a short dataframe to serve as an example for auditing\n",
    "* this test_df is an example input for RBMCE\n"
   ]
  },
  {
   "cell_type": "code",
   "execution_count": 5,
   "metadata": {},
   "outputs": [],
   "source": [
    "test_df=pd.read_csv(os.path.join(os.path.join(os.getcwd(),'rbmce/use_guides'),'audit_example.csv'))"
   ]
  },
  {
   "cell_type": "markdown",
   "metadata": {},
   "source": [
    "# running rbmce on test_df:"
   ]
  },
  {
   "cell_type": "code",
   "execution_count": 7,
   "metadata": {},
   "outputs": [
    {
     "name": "stdout",
     "output_type": "stream",
     "text": [
      "step0.1\n",
      "step0.2\n",
      "step0.3\n",
      "step0.4\n",
      "step1\n",
      "negative_classifier: 0.1473 seconds\n",
      "step2\n",
      "virus, neg, yeast, etc...: 0.0130 seconds\n",
      "step2.1\n",
      "n= 0 rows (0 unique cultures) added back from the neg list via virus/yeast + bacerial species exemption\n",
      "negative species capture...: 0.8238 seconds\n",
      "step3\n",
      "unspecific positive: 0.0449 seconds\n",
      "step4\n",
      "species specific captures: 0.2955 seconds\n",
      "step5\n",
      "staph classifier: 0.0643 seconds\n",
      "step6\n",
      "unclear and likely negative: 0.0894 seconds\n"
     ]
    }
   ],
   "source": [
    "test_df=rbmce.run(test_df[['culture_id','visit_id','parsed_note']])"
   ]
  },
  {
   "cell_type": "code",
   "execution_count": null,
   "metadata": {},
   "outputs": [],
   "source": []
  },
  {
   "cell_type": "markdown",
   "metadata": {},
   "source": [
    "# split into pos and neg bacteria positive status\n",
    "* for each look at the top x most frequent note texts\n",
    "* if this isn't helpful or not granular enough, can look at top x rank of:\n",
    "    * result_binary: which will show the enumerated index num of the \n",
    "    * result_binary2"
   ]
  },
  {
   "cell_type": "code",
   "execution_count": 8,
   "metadata": {},
   "outputs": [],
   "source": [
    "pos_df= test_df[test_df['result_num']==1]\n",
    "neg_df= test_df[test_df['result_num']==0]"
   ]
  },
  {
   "cell_type": "code",
   "execution_count": 9,
   "metadata": {},
   "outputs": [
    {
     "data": {
      "text/plain": [
       "gram positive cocci in clusters in bottle with antibiotic removal resin          3\n",
       "Many species present                                                             3\n",
       "gram negative bacilli in aerobic and anaerobic bottles                           3\n",
       "Many Pseudomonas aeruginosa strain 1                                             2\n",
       "Many Pseudomonas aeruginosa strain 2                                             2\n",
       "Klebsiella pneumoniae in bottle with antibiotic removal resin                    2\n",
       "gram negative bacilli in anaerobic bottle                                        2\n",
       "Moderate Pseudomonas aeruginosa                                                  2\n",
       "Many Pseudomonas aeruginosa                                                      2\n",
       "Mixed gram negative bacilli                                                      2\n",
       "Klebsiella oxytoca in aerobic and anaerobic bottles                              2\n",
       "Klebsiella pneumoniae in aerobic and anaerobic bottles                           2\n",
       "> 100,000/ml Escherichia coli                                                    1\n",
       "Many Streptococcus pneumoniae                                                    1\n",
       "Moderate Klebsiella oxytoca                                                      1\n",
       "Many methicillin resistant Staphylococcus aureus D test negative.                1\n",
       "Klebsiella pneumoniae strain 2 in anaerobic bottle                               1\n",
       "Moderate Pseudomonas aeruginosa strain 3                                         1\n",
       "alpha hemolytic streptococci in bottle with antibiotic removal resin             1\n",
       "gram positive cocci in pairs and chains in anaerobic bottle                      1\n",
       "Aminoglycosides alone are not effective against enterococci. For this isolate    1\n",
       "Klebsiella oxytoca in anaerobic bottle                                           1\n",
       "Many Klebsiella pneumoniae                                                       1\n",
       "gram positive cocci in chains in anaerobic bottle                                1\n",
       "non-hemolytic streptococci in anaerobic bottle                                   1\n",
       "Many Stenotrophomonas maltophilia                                                1\n",
       "Moderate methicillin resistant Staphylococcus aureus D test negative.            1\n",
       "Enterococcus faecalis in aerobic and anaerobic bottles                           1\n",
       "alpha hemolytic streptococci in anaerobic bottle                                 1\n",
       "Moderate Pseudomonas aeruginosa strain 4                                         1\n",
       "Moderate Achromobacter (Alcaligenes) xylosoxidans                                1\n",
       "Four or more strains of aerobic gram positive organisms present                  1\n",
       "Moderate Haemophilus influenzae beta lactamase negative                          1\n",
       "gram negative bacilli in bottle with antibiotic removal resin                    1\n",
       "Many Pseudomonas aeruginosa strain 3                                             1\n",
       "> 100,000/ml Enterococcus sp. UTI isolates not routinely tested for              1\n",
       "Moderate Stenotrophomonas maltophilia                                            1\n",
       "gram positive cocci in pairs and chains in aerobic and anaerobic bottles         1\n",
       "Many Acinetobacter baumanii                                                      1\n",
       "Moderate Pseudomonas aeruginosa strain 2                                         1\n",
       "Name: parsed_note, dtype: int64"
      ]
     },
     "execution_count": 9,
     "metadata": {},
     "output_type": "execute_result"
    }
   ],
   "source": [
    "pos_df['parsed_note'].value_counts() #check through these and ensure no glaring misclassifications. if a misclass is spotted"
   ]
  },
  {
   "cell_type": "code",
   "execution_count": 6,
   "metadata": {},
   "outputs": [
    {
     "data": {
      "text/plain": [
       "species_positive1       12\n",
       "species_positive2       10\n",
       "species_positive0        8\n",
       "species_positive70       7\n",
       "pos_staph                6\n",
       "species_positive14       6\n",
       "species_positive93       3\n",
       "species_positive19       3\n",
       "positive_unspecific1     3\n",
       "species_positive21       3\n",
       "species_positive6        2\n",
       "species_positive11       1\n",
       "species_positive27       1\n",
       "species_positive62       1\n",
       "species_positive3        1\n",
       "Name: result_binary, dtype: int64"
      ]
     },
     "execution_count": 6,
     "metadata": {},
     "output_type": "execute_result"
    }
   ],
   "source": [
    "pos_df['result_binary'].value_counts()"
   ]
  },
  {
   "cell_type": "code",
   "execution_count": 7,
   "metadata": {},
   "outputs": [
    {
     "data": {
      "text/plain": [
       "positive    67\n",
       "Name: result_binary2, dtype: int64"
      ]
     },
     "execution_count": 7,
     "metadata": {},
     "output_type": "execute_result"
    }
   ],
   "source": [
    "pos_df['result_binary2'].value_counts()"
   ]
  },
  {
   "cell_type": "code",
   "execution_count": 12,
   "metadata": {},
   "outputs": [
    {
     "data": {
      "text/html": [
       "<div>\n",
       "<style scoped>\n",
       "    .dataframe tbody tr th:only-of-type {\n",
       "        vertical-align: middle;\n",
       "    }\n",
       "\n",
       "    .dataframe tbody tr th {\n",
       "        vertical-align: top;\n",
       "    }\n",
       "\n",
       "    .dataframe thead th {\n",
       "        text-align: right;\n",
       "    }\n",
       "</style>\n",
       "<table border=\"1\" class=\"dataframe\">\n",
       "  <thead>\n",
       "    <tr style=\"text-align: right;\">\n",
       "      <th></th>\n",
       "      <th>culture_id</th>\n",
       "      <th>likelyneg_capt</th>\n",
       "      <th>likelyneg_regex</th>\n",
       "      <th>negative_capt</th>\n",
       "      <th>negative_regex</th>\n",
       "      <th>parsed_note</th>\n",
       "      <th>pos_qual_capt</th>\n",
       "      <th>pos_qual_regex</th>\n",
       "      <th>pos_quant_capt</th>\n",
       "      <th>pos_quant_regex</th>\n",
       "      <th>...</th>\n",
       "      <th>unclear_regex</th>\n",
       "      <th>virus_capt</th>\n",
       "      <th>virus_regex</th>\n",
       "      <th>visit_id</th>\n",
       "      <th>yeast_capt</th>\n",
       "      <th>yeast_regex</th>\n",
       "      <th>species_capt_all</th>\n",
       "      <th>OHDSI_ID</th>\n",
       "      <th>OHDSI_Concept</th>\n",
       "      <th>flora_flag</th>\n",
       "    </tr>\n",
       "  </thead>\n",
       "  <tbody>\n",
       "    <tr>\n",
       "      <th>46</th>\n",
       "      <td>16</td>\n",
       "      <td>[]</td>\n",
       "      <td>[]</td>\n",
       "      <td>[]</td>\n",
       "      <td>[]</td>\n",
       "      <td>Aminoglycosides alone are not effective agains...</td>\n",
       "      <td>[]</td>\n",
       "      <td>[]</td>\n",
       "      <td>[]</td>\n",
       "      <td>[]</td>\n",
       "      <td>...</td>\n",
       "      <td>[]</td>\n",
       "      <td>[]</td>\n",
       "      <td>[]</td>\n",
       "      <td>16</td>\n",
       "      <td>[]</td>\n",
       "      <td>[]</td>\n",
       "      <td>[enterococci]</td>\n",
       "      <td>[4174874]</td>\n",
       "      <td>[Enterococcus canis]</td>\n",
       "      <td>0</td>\n",
       "    </tr>\n",
       "  </tbody>\n",
       "</table>\n",
       "<p>1 rows × 35 columns</p>\n",
       "</div>"
      ],
      "text/plain": [
       "    culture_id likelyneg_capt likelyneg_regex negative_capt negative_regex  \\\n",
       "46          16             []              []            []             []   \n",
       "\n",
       "                                          parsed_note pos_qual_capt  \\\n",
       "46  Aminoglycosides alone are not effective agains...            []   \n",
       "\n",
       "   pos_qual_regex pos_quant_capt pos_quant_regex  ... unclear_regex  \\\n",
       "46             []             []              []  ...            []   \n",
       "\n",
       "   virus_capt virus_regex visit_id yeast_capt yeast_regex species_capt_all  \\\n",
       "46         []          []       16         []          []    [enterococci]   \n",
       "\n",
       "     OHDSI_ID         OHDSI_Concept  flora_flag  \n",
       "46  [4174874]  [Enterococcus canis]           0  \n",
       "\n",
       "[1 rows x 35 columns]"
      ]
     },
     "execution_count": 12,
     "metadata": {},
     "output_type": "execute_result"
    }
   ],
   "source": [
    "pos_df[pos_df['parsed_note']=='Aminoglycosides alone are not effective against enterococci. For this isolate']"
   ]
  },
  {
   "cell_type": "markdown",
   "metadata": {},
   "source": [
    "### example:\n",
    "* above we see \"Aminoglycosides alone are not effective against enterococci. For this isolate...\" was classified as positive.\n",
    "    * this looks like a note section that was providing context to an result rather than being a primary result. thus should be ignored. \n",
    "    \n",
    "### todo: need to add exemption for this such that it and other similar cases will be classified as negative from here on\n",
    "* we have two choices for where to account for this, first: negative_captures, which is the most broad reaching since it is applied first and will dictate if a case has a chance to be considered positive downstream. The other option is in \"unclear\", which is applied on the last step of the positive block and is used as a way to catch false positives. \n",
    "* for this example Let's do the \"unclear\" \n",
    "* please see supplimental_use_guide1.md for detailed description of classification logic flow for additional context.\n",
    "* for this case, let's assume that \"Aminoglycosides alone are not effective...\" is the common string in these false positives.\n",
    "    * to address this, we can make a enterococci capture with a positive look behind for the above phrase and add this to the unclear list.\n"
   ]
  },
  {
   "cell_type": "markdown",
   "metadata": {},
   "source": [
    "### first, look up the regex list of interest:\n",
    "* see supplimental_use_guide1.md for names and descriptions of all regex lists\n",
    "* all regex lists are stored in rbmce.regex_blocks, see below for example of how to look at lists, and append a regex to the list. \n",
    "* NOTE: this addition only appends the regex to teh list in the given run, if an kernal instance were to be reset, the addition would need to be done again.\n",
    "* this same workflow can be performed to remove or modify a regex in the lists."
   ]
  },
  {
   "cell_type": "code",
   "execution_count": 13,
   "metadata": {},
   "outputs": [
    {
     "data": {
      "text/plain": [
       "['negative for',\n",
       " 'no\\\\sgrowth',\n",
       " 'no acid fast bacilli',\n",
       " 'acid fast bacilli negative',\n",
       " '(?<!\\\\bno\\\\b\\\\s)(?<!\\\\bnot\\\\b\\\\s)\\\\bnormal\\\\sflora\\\\b',\n",
       " 'no\\\\s+(?!normal flora)([a-zA-Z]+\\\\s*){1,4}((\\\\bisolated\\\\b)|(\\\\bfound\\\\b)|(\\\\bgrow[nth]{1,2}\\\\b)|(\\\\bseen\\\\b)|(\\\\bpresent\\\\b)|(\\\\bdetected\\\\b)|(\\\\bgrown\\\\b)|(\\\\bseen\\\\b)|(\\\\bcultured\\\\b))',\n",
       " '(?<!\\\\bno\\\\b\\\\s)(?<!\\\\bnot\\\\b\\\\s)\\\\bnormal\\\\s(\\\\s?\\\\w{2,}\\\\s)flora',\n",
       " 'no\\\\s(\\\\s?\\\\b\\\\w*[-()\\\\s]*\\\\b){0,6}\\\\s?isolated',\n",
       " 'culture\\\\s(\\\\s?\\\\b\\\\w*[-()]*\\\\b){0,6}\\\\s?negative',\n",
       " 'no\\\\sgrowth.*\\\\(detection\\\\slevel\\\\sof\\\\s\\\\d+,?\\\\d+\\\\s?colonies',\n",
       " '^negative$',\n",
       " 'species\\\\snot\\\\sisolated',\n",
       " 'mixed\\\\s\\\\w{0,}\\\\s?flora',\n",
       " '(?<!resistance)(?<!susceptibility)\\\\s+not\\\\sdetected|indicated',\n",
       " ':\\\\snegative$',\n",
       " 'no\\\\s(predominant|prevelant|identifyable|isolated)\\\\s(organism|bacteria|colony|growth)',\n",
       " 'parasite',\n",
       " '(?<!un)usual\\\\s(\\\\s?\\\\w{2,}\\\\s)flora',\n",
       " '^no normal flora\\\\s?((\\\\bisolated\\\\b)|(\\\\bfound\\\\b)|(\\\\bgrow[nth]{1,2}\\\\b)|(\\\\bseen\\\\b)|(\\\\bpresent\\\\b)|(\\\\bdetected\\\\b)|(\\\\bgrown\\\\b)|(\\\\bseen\\\\b)|(\\\\bcultured\\\\b)|(\\\\bidentified\\\\b))?$']"
      ]
     },
     "execution_count": 13,
     "metadata": {},
     "output_type": "execute_result"
    }
   ],
   "source": [
    "#negative regex list:\n",
    "rbmce.regex_blocks.negative_regex_list"
   ]
  },
  {
   "cell_type": "code",
   "execution_count": 10,
   "metadata": {},
   "outputs": [
    {
     "data": {
      "text/plain": [
       "['culture complete',\n",
       " '(?<!isolated)(?<!isolated )(?<!present)(?<!present )(?<!detected)(?<!detected )(unable to determine)(?!\\\\s?colony count)',\n",
       " 'see (note|below|scanned|comment)',\n",
       " '(left|right) hand',\n",
       " 'cannot be performed',\n",
       " 'test not performed',\n",
       " \"\\\\d\\\\+\\\\s?(wbc|rbc)[\\\\']?s\\\\sseen\",\n",
       " '\\\\+\\\\sepithelial\\\\scells',\n",
       " 'culture in progress',\n",
       " 'neutrop',\n",
       " 'contamin',\n",
       " \"presence.{0,20}absence.{0,40}(cannot|can\\\\'?t)\\\\s?be\\\\s?(determined|detected)\",\n",
       " 'comments:\\\\s{0,5}validation studies at labcorp have demonstrated',\n",
       " 'comments:\\\\s{0,4}this assay is specific for',\n",
       " '^comments:',\n",
       " 'indeterminate',\n",
       " \"cannot|can'?t be ruled out\",\n",
       " 'below the detection|lod|limit of detection',\n",
       " 'no\\\\s(?=.{0,75},).{0,75},(?=.{0,75}or).{0,75}or(?=(.*?\\\\s.+?isolated)|(.*?\\\\s.+?detected)).*?\\\\.?']"
      ]
     },
     "execution_count": 10,
     "metadata": {},
     "output_type": "execute_result"
    }
   ],
   "source": [
    "#unclear regex list:\n",
    "rbmce.regex_blocks.unclear_regex_list"
   ]
  },
  {
   "cell_type": "code",
   "execution_count": 23,
   "metadata": {},
   "outputs": [],
   "source": [
    "rbmce.regex_blocks.unclear_regex_list.append(r'(?<=aminoglycosides alone are not effective against )enterococci')"
   ]
  },
  {
   "cell_type": "code",
   "execution_count": 24,
   "metadata": {},
   "outputs": [
    {
     "data": {
      "text/plain": [
       "['culture complete',\n",
       " '(?<!isolated)(?<!isolated )(?<!present)(?<!present )(?<!detected)(?<!detected )(unable to determine)(?!\\\\s?colony count)',\n",
       " 'see (note|below|scanned|comment)',\n",
       " '(left|right) hand',\n",
       " 'cannot be performed',\n",
       " 'test not performed',\n",
       " \"\\\\d\\\\+\\\\s?(wbc|rbc)[\\\\']?s\\\\sseen\",\n",
       " '\\\\+\\\\sepithelial\\\\scells',\n",
       " 'culture in progress',\n",
       " 'neutrop',\n",
       " 'contamin',\n",
       " \"presence.{0,20}absence.{0,40}(cannot|can\\\\'?t)\\\\s?be\\\\s?(determined|detected)\",\n",
       " 'comments:\\\\s{0,5}validation studies at labcorp have demonstrated',\n",
       " 'comments:\\\\s{0,4}this assay is specific for',\n",
       " '^comments:',\n",
       " 'indeterminate',\n",
       " \"cannot|can'?t be ruled out\",\n",
       " 'below the detection|lod|limit of detection',\n",
       " 'no\\\\s(?=.{0,75},).{0,75},(?=.{0,75}or).{0,75}or(?=(.*?\\\\s.+?isolated)|(.*?\\\\s.+?detected)).*?\\\\.?',\n",
       " '(?<!aminoglycosides alone are not effective against )enterococci',\n",
       " '(?<=aminoglycosides alone are not effective against )enterococci']"
      ]
     },
     "execution_count": 24,
     "metadata": {},
     "output_type": "execute_result"
    }
   ],
   "source": [
    "rbmce.regex_blocks.unclear_regex_list"
   ]
  },
  {
   "cell_type": "code",
   "execution_count": null,
   "metadata": {},
   "outputs": [],
   "source": []
  },
  {
   "cell_type": "code",
   "execution_count": 25,
   "metadata": {},
   "outputs": [],
   "source": [
    "###running rbmce spits out some unnecessary warnings when used in jupyter, silencing them here\n",
    "import warnings\n",
    "warnings.filterwarnings('ignore')"
   ]
  },
  {
   "cell_type": "code",
   "execution_count": 26,
   "metadata": {},
   "outputs": [
    {
     "name": "stdout",
     "output_type": "stream",
     "text": [
      "step0.1\n",
      "step0.2\n",
      "step0.3\n",
      "step0.4\n",
      "step1\n",
      "negative_classifier: 0.1402 seconds\n",
      "step2\n",
      "virus, neg, yeast, etc...: 0.0108 seconds\n",
      "step2.1\n",
      "n= 0 rows (0 unique cultures) added back from the neg list via virus/yeast + bacerial species exemption\n",
      "negative species capture...: 0.7291 seconds\n",
      "step3\n",
      "unspecific positive: 0.0408 seconds\n",
      "step4\n",
      "species specific captures: 0.2750 seconds\n",
      "step5\n",
      "staph classifier: 0.0651 seconds\n",
      "step6\n",
      "unclear and likely negative: 0.0845 seconds\n"
     ]
    }
   ],
   "source": [
    "###need to silence warnings\n",
    "test_df_rerun=rbmce.run(test_df[['culture_id','visit_id','parsed_note']])"
   ]
  },
  {
   "cell_type": "code",
   "execution_count": 28,
   "metadata": {},
   "outputs": [
    {
     "data": {
      "text/html": [
       "<div>\n",
       "<style scoped>\n",
       "    .dataframe tbody tr th:only-of-type {\n",
       "        vertical-align: middle;\n",
       "    }\n",
       "\n",
       "    .dataframe tbody tr th {\n",
       "        vertical-align: top;\n",
       "    }\n",
       "\n",
       "    .dataframe thead th {\n",
       "        text-align: right;\n",
       "    }\n",
       "</style>\n",
       "<table border=\"1\" class=\"dataframe\">\n",
       "  <thead>\n",
       "    <tr style=\"text-align: right;\">\n",
       "      <th></th>\n",
       "      <th>result_binary</th>\n",
       "      <th>unclear_capt</th>\n",
       "      <th>OHDSI_Concept</th>\n",
       "      <th>species_capt</th>\n",
       "      <th>result_num</th>\n",
       "    </tr>\n",
       "  </thead>\n",
       "  <tbody>\n",
       "    <tr>\n",
       "      <th>46</th>\n",
       "      <td>unclear20</td>\n",
       "      <td>[enterococci]</td>\n",
       "      <td>[Enterococcus canis]</td>\n",
       "      <td>[enterococci]</td>\n",
       "      <td>0</td>\n",
       "    </tr>\n",
       "  </tbody>\n",
       "</table>\n",
       "</div>"
      ],
      "text/plain": [
       "   result_binary   unclear_capt         OHDSI_Concept   species_capt  \\\n",
       "46     unclear20  [enterococci]  [Enterococcus canis]  [enterococci]   \n",
       "\n",
       "    result_num  \n",
       "46           0  "
      ]
     },
     "metadata": {},
     "output_type": "display_data"
    }
   ],
   "source": [
    "# the correct classification is now reflected in the RBMCE run. \n",
    "\n",
    "display(test_df_rerun.loc[\n",
    "    test_df_rerun['parsed_note']=='Aminoglycosides alone are not effective against enterococci. For this isolate',\n",
    "    ['result_binary','unclear_capt','OHDSI_Concept','species_capt','result_num']])"
   ]
  },
  {
   "cell_type": "code",
   "execution_count": null,
   "metadata": {},
   "outputs": [],
   "source": []
  },
  {
   "cell_type": "code",
   "execution_count": null,
   "metadata": {},
   "outputs": [],
   "source": []
  },
  {
   "cell_type": "code",
   "execution_count": null,
   "metadata": {},
   "outputs": [],
   "source": []
  },
  {
   "cell_type": "code",
   "execution_count": null,
   "metadata": {},
   "outputs": [],
   "source": []
  },
  {
   "cell_type": "code",
   "execution_count": null,
   "metadata": {},
   "outputs": [],
   "source": []
  }
 ],
 "metadata": {
  "kernelspec": {
   "display_name": "Python 3",
   "language": "python",
   "name": "python3"
  },
  "language_info": {
   "codemirror_mode": {
    "name": "ipython",
    "version": 3
   },
   "file_extension": ".py",
   "mimetype": "text/x-python",
   "name": "python",
   "nbconvert_exporter": "python",
   "pygments_lexer": "ipython3",
   "version": "3.7.7"
  }
 },
 "nbformat": 4,
 "nbformat_minor": 4
}
